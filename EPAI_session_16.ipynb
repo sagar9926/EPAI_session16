{
  "nbformat": 4,
  "nbformat_minor": 0,
  "metadata": {
    "colab": {
      "name": "EPAI_session 16.ipynb",
      "provenance": [],
      "authorship_tag": "ABX9TyNkuSqLDVNFq3M1TnYQ/igH",
      "include_colab_link": true
    },
    "kernelspec": {
      "name": "python3",
      "display_name": "Python 3"
    }
  },
  "cells": [
    {
      "cell_type": "markdown",
      "metadata": {
        "id": "view-in-github",
        "colab_type": "text"
      },
      "source": [
        "<a href=\"https://colab.research.google.com/github/sagar9926/EPAI_session16/blob/main/EPAI_session_16.ipynb\" target=\"_parent\"><img src=\"https://colab.research.google.com/assets/colab-badge.svg\" alt=\"Open In Colab\"/></a>"
      ]
    },
    {
      "cell_type": "markdown",
      "metadata": {
        "id": "fzezb8d1VFrm"
      },
      "source": [
        "## Assignment 1 :\n",
        "\n",
        "The files are:\n",
        "\n",
        "- personal_info.csv - personal information such as name, gender, etc. (one row per person)\n",
        "\n",
        "- vehicles.csv - what vehicle people own (one row per person)\n",
        "\n",
        "- employment.csv - where a person is employed (one row per person)\n",
        "\n",
        "- update_status.csv - when the person's data was created and last updated\n",
        "\n",
        "Each file contains a key, SSN, which uniquely identifies a person.\n",
        "\n",
        "This key is present in all four files.\n",
        "\n",
        "You are guaranteed that the same SSN value is present in every file, and that it only appears once per file.\n",
        "\n",
        "In addition, the files are all sorted by SSN, i.e. the SSN values appear in the same order in each file."
      ]
    },
    {
      "cell_type": "code",
      "metadata": {
        "colab": {
          "base_uri": "https://localhost:8080/"
        },
        "id": "y9rZleNlTQ9r",
        "outputId": "4d016573-8c3b-47c3-b4ea-56d93526a5cf"
      },
      "source": [
        "!git clone https://github.com/sagar9926/EPAI_session16.git"
      ],
      "execution_count": 1,
      "outputs": [
        {
          "output_type": "stream",
          "text": [
            "Cloning into 'EPAI_session16'...\n",
            "remote: Enumerating objects: 48, done.\u001b[K\n",
            "remote: Counting objects: 100% (48/48), done.\u001b[K\n",
            "remote: Compressing objects: 100% (46/46), done.\u001b[K\n",
            "remote: Total 48 (delta 23), reused 0 (delta 0), pack-reused 0\u001b[K\n",
            "Unpacking objects: 100% (48/48), done.\n"
          ],
          "name": "stdout"
        }
      ]
    },
    {
      "cell_type": "code",
      "metadata": {
        "colab": {
          "base_uri": "https://localhost:8080/"
        },
        "id": "NglzoKIpTYB4",
        "outputId": "917459c5-da63-4371-f9f8-724fbb64e744"
      },
      "source": [
        "cd EPAI_session16"
      ],
      "execution_count": 2,
      "outputs": [
        {
          "output_type": "stream",
          "text": [
            "/content/EPAI_session16\n"
          ],
          "name": "stdout"
        }
      ]
    },
    {
      "cell_type": "code",
      "metadata": {
        "colab": {
          "base_uri": "https://localhost:8080/"
        },
        "id": "gk-oqb8GXDbn",
        "outputId": "21831dd1-27b6-4a13-8c06-3fe0b39636a0"
      },
      "source": [
        "!ls"
      ],
      "execution_count": 3,
      "outputs": [
        {
          "output_type": "stream",
          "text": [
            "Cars.csv\tEPAI_session_16.ipynb  README.md\t  vehicles.csv\n",
            "employment.csv\tpersonal_info.csv      update_status.csv\n"
          ],
          "name": "stdout"
        }
      ]
    },
    {
      "cell_type": "code",
      "metadata": {
        "id": "bxnTtvn3ThZV"
      },
      "source": [
        "from collections import namedtuple\n",
        "import datetime\n",
        "import csv"
      ],
      "execution_count": 4,
      "outputs": []
    },
    {
      "cell_type": "code",
      "metadata": {
        "id": "D1oMucRxW4OO"
      },
      "source": [
        "def read_file(file_name):\n",
        "  with open(file_name) as f:\n",
        "    rows = csv.reader(f,delimiter = ',',quotechar = '\"')\n",
        "    yield from rows\n"
      ],
      "execution_count": 5,
      "outputs": []
    },
    {
      "cell_type": "code",
      "metadata": {
        "id": "_Xi4XiP9xANe"
      },
      "source": [
        "data_type_dict = {\n",
        "    \"employment.csv\" : [str,str,str,str],\n",
        "    'personal_info.csv' : [str,str,str,str,str],\n",
        "    'update_status.csv' : [str,datetime.datetime.strptime,datetime.datetime.strptime],\n",
        "    'vehicles.csv' : [str,\tstr,\tstr,\tint]\n",
        "\n",
        "}\n",
        "date_format = '%Y-%m-%dT%H:%M:%SZ'"
      ],
      "execution_count": 6,
      "outputs": []
    },
    {
      "cell_type": "code",
      "metadata": {
        "id": "0H4Jeo8LT0o6"
      },
      "source": [
        "class file_iter:\n",
        "  def __init__(self,file_name):\n",
        "    self.file_name = file_name\n",
        "    self.data_type = data_type_dict[self.file_name]\n",
        "    self.file = read_file(self.file_name)\n",
        "    self.columns = \" \".join(next(self.file))\n",
        "    self.row_name_tuple = namedtuple((self.file_name[0].upper() + self.file_name[1:-4]),self.columns)\n",
        "    self.row_index = 0\n",
        "  \n",
        "  def __iter__(self):\n",
        "    for row in self.file:\n",
        "      if self.file_name != 'update_status.csv':\n",
        "        row = [type_(data) for type_ , data in zip(self.data_type,row)]\n",
        "      else :\n",
        "        row = [type_(data) if type_ == str else type_(data,date_format) for type_ , data in zip(self.data_type,row)]\n",
        "      yield self.row_name_tuple(*row)\n",
        "\n"
      ],
      "execution_count": 7,
      "outputs": []
    },
    {
      "cell_type": "markdown",
      "metadata": {
        "id": "SHzHzLC7sRVn"
      },
      "source": [
        "### Goal 1\n",
        "\n",
        "Your first task is to create iterators for each of the four files that contained cleaned up data, of the correct type (e.g. string, int, date, etc), and represented by a named tuple.\n",
        "\n",
        "For now these four iterators are just separate, independent iterators."
      ]
    },
    {
      "cell_type": "code",
      "metadata": {
        "id": "Pg3e5KcMrxou"
      },
      "source": [
        "employment_iter = file_iter('employment.csv')\n",
        "personal_info_iter = file_iter('personal_info.csv')\n",
        "update_status_iter = file_iter('update_status.csv')\n",
        "vehicles_iter = file_iter('vehicles.csv')"
      ],
      "execution_count": 8,
      "outputs": []
    },
    {
      "cell_type": "code",
      "metadata": {
        "colab": {
          "base_uri": "https://localhost:8080/"
        },
        "id": "9DpCJwJ-CjPo",
        "outputId": "200cb28f-277a-4367-d3ce-8a0fe7f22467"
      },
      "source": [
        "count = 0\n",
        "for x in personal_info_iter: \n",
        "  print(x)\n",
        "  count += 1\n",
        "  if count == 3:\n",
        "    break"
      ],
      "execution_count": 9,
      "outputs": [
        {
          "output_type": "stream",
          "text": [
            "Personal_info(ssn='100-53-9824', first_name='Sebastiano', last_name='Tester', gender='Male', language='Icelandic')\n",
            "Personal_info(ssn='101-71-4702', first_name='Cayla', last_name='MacDonagh', gender='Female', language='Lao')\n",
            "Personal_info(ssn='101-84-0356', first_name='Nomi', last_name='Lipprose', gender='Female', language='Yiddish')\n"
          ],
          "name": "stdout"
        }
      ]
    },
    {
      "cell_type": "code",
      "metadata": {
        "colab": {
          "base_uri": "https://localhost:8080/"
        },
        "id": "wq7MR9OTCaLU",
        "outputId": "aae5da3d-a3a0-4ec2-fdcf-587b2c84121d"
      },
      "source": [
        "count = 0\n",
        "for x in update_status_iter: \n",
        "  print(x)\n",
        "  count += 1\n",
        "  if count == 3:\n",
        "    break"
      ],
      "execution_count": 10,
      "outputs": [
        {
          "output_type": "stream",
          "text": [
            "Update_status(ssn='100-53-9824', last_updated=datetime.datetime(2017, 10, 7, 0, 14, 42), created=datetime.datetime(2016, 1, 24, 21, 19, 30))\n",
            "Update_status(ssn='101-71-4702', last_updated=datetime.datetime(2017, 1, 23, 11, 23, 17), created=datetime.datetime(2016, 1, 27, 4, 32, 57))\n",
            "Update_status(ssn='101-84-0356', last_updated=datetime.datetime(2017, 10, 4, 11, 21, 30), created=datetime.datetime(2016, 9, 21, 23, 4, 7))\n"
          ],
          "name": "stdout"
        }
      ]
    },
    {
      "cell_type": "code",
      "metadata": {
        "colab": {
          "base_uri": "https://localhost:8080/"
        },
        "id": "Up6MrbKACKrs",
        "outputId": "8d22983b-1a46-47cb-cb76-3af1429d599a"
      },
      "source": [
        "count = 0\n",
        "for x in vehicles_iter: \n",
        "  print(x)\n",
        "  count += 1\n",
        "  if count == 3:\n",
        "    break"
      ],
      "execution_count": 11,
      "outputs": [
        {
          "output_type": "stream",
          "text": [
            "Vehicles(ssn='100-53-9824', vehicle_make='Oldsmobile', vehicle_model='Bravada', model_year=1993)\n",
            "Vehicles(ssn='101-71-4702', vehicle_make='Ford', vehicle_model='Mustang', model_year=1997)\n",
            "Vehicles(ssn='101-84-0356', vehicle_make='GMC', vehicle_model='Yukon', model_year=2005)\n"
          ],
          "name": "stdout"
        }
      ]
    },
    {
      "cell_type": "code",
      "metadata": {
        "id": "35338hHcoX8D"
      },
      "source": [
        "qc = file_iter('employment.csv')"
      ],
      "execution_count": 12,
      "outputs": []
    },
    {
      "cell_type": "code",
      "metadata": {
        "colab": {
          "base_uri": "https://localhost:8080/"
        },
        "id": "3Xy7acw9oe3N",
        "outputId": "b1bbcb58-18ca-4295-aef9-c4a398e22809"
      },
      "source": [
        "qc"
      ],
      "execution_count": 13,
      "outputs": [
        {
          "output_type": "execute_result",
          "data": {
            "text/plain": [
              "<__main__.file_iter at 0x7f82f46447b8>"
            ]
          },
          "metadata": {
            "tags": []
          },
          "execution_count": 13
        }
      ]
    },
    {
      "cell_type": "code",
      "metadata": {
        "colab": {
          "base_uri": "https://localhost:8080/"
        },
        "id": "pK07bbC3ohK7",
        "outputId": "675bfada-2666-4cdd-cfa4-15b8968e3e8d"
      },
      "source": [
        "next(iter(qc))"
      ],
      "execution_count": 14,
      "outputs": [
        {
          "output_type": "execute_result",
          "data": {
            "text/plain": [
              "Employment(employer='Stiedemann-Bailey', department='Research and Development', employee_id='29-0890771', ssn='100-53-9824')"
            ]
          },
          "metadata": {
            "tags": []
          },
          "execution_count": 14
        }
      ]
    },
    {
      "cell_type": "markdown",
      "metadata": {
        "id": "ivaeVcou8nBs"
      },
      "source": [
        "### Goal 2\n",
        "\n",
        "Create a single iterable that combines all the columns from all the iterators.\n",
        "\n",
        "The iterable should yield named tuples containing all the columns. Make sure that the SSN's across the files match!\n",
        "\n",
        "All the files are guaranteed to be in SSN sort order, and every SSN is unique, and every SSN appears in every file.\n",
        "\n",
        "Make sure the SSN is not repeated 4 times - one time per row is enough!"
      ]
    },
    {
      "cell_type": "code",
      "metadata": {
        "id": "r5CuKi0rhSeR"
      },
      "source": [
        "employment_iter = file_iter('employment.csv')\n",
        "personal_info_iter = file_iter('personal_info.csv')\n",
        "update_status_iter = file_iter('update_status.csv')\n",
        "vehicles_iter = file_iter('vehicles.csv')"
      ],
      "execution_count": 15,
      "outputs": []
    },
    {
      "cell_type": "code",
      "metadata": {
        "id": "WQiG-Tv9AzCK"
      },
      "source": [
        "class AllData :\n",
        "  def __init__(self,employment,personal_info,update_status,vehicles):\n",
        "    self.employment_fname = employment\n",
        "    self.personal_info_fname = personal_info\n",
        "    self.update_status_fname = update_status\n",
        "    self.vehicles_fname = vehicles\n",
        "\n",
        "  def __iter__(self):\n",
        "    return self.AllDataIterator(self.employment_fname,self.personal_info_fname,self.update_status_fname,self.vehicles_fname)\n",
        "\n",
        "  class AllDataIterator:\n",
        "    def __init__(self,employment,personal_info,update_status,vehicles):\n",
        "      self.employment_iter = file_iter(employment)\n",
        "      self.personal_info_iter = file_iter(personal_info)\n",
        "      self.update_status_iter = file_iter(update_status)\n",
        "      self.vehicles_iter = file_iter(vehicles)\n",
        "      self.row_index = 0\n",
        "\n",
        "    def __iter__(self):\n",
        "      return self\n",
        "\n",
        "    def __next__(self):\n",
        "      if self.row_index >= 1000:\n",
        "        raise StopIteration\n",
        "      else:\n",
        "        self.row_index += 1\n",
        "        for employment , personal_info , update_status , vehicles in zip(self.employment_iter,self.personal_info_iter,self.update_status_iter,self.vehicles_iter):\n",
        "          employment_dict = dict(employment._asdict()) \n",
        "          personal_info_dict = dict(personal_info._asdict())\n",
        "          update_status_dict = dict(update_status._asdict())\n",
        "          vehicles_dict = dict(vehicles._asdict())\n",
        "\n",
        "          combined_dict = {**employment_dict , **personal_info_dict , **update_status_dict , **vehicles_dict }\n",
        "          ALL_Data = namedtuple('ALL_Data',combined_dict)\n",
        "\n",
        "          return ALL_Data(**combined_dict)\n",
        "          \n",
        "      "
      ],
      "execution_count": 16,
      "outputs": []
    },
    {
      "cell_type": "code",
      "metadata": {
        "id": "skAEe-7QDvSM"
      },
      "source": [
        "qc = AllData('employment.csv','personal_info.csv','update_status.csv','vehicles.csv')"
      ],
      "execution_count": 17,
      "outputs": []
    },
    {
      "cell_type": "code",
      "metadata": {
        "colab": {
          "base_uri": "https://localhost:8080/"
        },
        "id": "tIgefDKEqL_S",
        "outputId": "cf8f9a22-e4e6-42de-a6d7-4e2a18f04646"
      },
      "source": [
        "next(iter(qc))"
      ],
      "execution_count": 18,
      "outputs": [
        {
          "output_type": "execute_result",
          "data": {
            "text/plain": [
              "ALL_Data(employer='Stiedemann-Bailey', department='Research and Development', employee_id='29-0890771', ssn='100-53-9824', first_name='Sebastiano', last_name='Tester', gender='Male', language='Icelandic', last_updated=datetime.datetime(2017, 10, 7, 0, 14, 42), created=datetime.datetime(2016, 1, 24, 21, 19, 30), vehicle_make='Oldsmobile', vehicle_model='Bravada', model_year=1993)"
            ]
          },
          "metadata": {
            "tags": []
          },
          "execution_count": 18
        }
      ]
    },
    {
      "cell_type": "markdown",
      "metadata": {
        "id": "VpK7fhKapy_C"
      },
      "source": [
        "### Goal 3\n",
        "Next, you want to identify any stale records, where stale simply means the record has not been updated since 3/1/2017 (e.g. last update date < 3/1/2017). Create an iterator that only contains current records (i.e. not stale) based on the last_updated field from the status_update file."
      ]
    },
    {
      "cell_type": "code",
      "metadata": {
        "id": "mBb7IdztpUOm"
      },
      "source": [
        "def Stale_records():\n",
        "  data = AllData('employment.csv','personal_info.csv','update_status.csv','vehicles.csv')\n",
        "  for NT in data:\n",
        "    if NT.last_updated < datetime.datetime.strptime(\"2017/03/01\",\"%Y/%m/%d\"):\n",
        "      yield NT\n",
        "    else :\n",
        "      continue"
      ],
      "execution_count": 19,
      "outputs": []
    },
    {
      "cell_type": "markdown",
      "metadata": {
        "id": "lbXUOLTWrN0O"
      },
      "source": [
        "### Goal 4\n",
        "Find the largest group of car makes for each gender.\n",
        "\n",
        "Possibly more than one such group per gender exists (equal sizes)."
      ]
    },
    {
      "cell_type": "code",
      "metadata": {
        "id": "8d-kZvEksW1g"
      },
      "source": [
        "data = AllData('employment.csv','personal_info.csv','update_status.csv','vehicles.csv')\n",
        "car_make = {k.vehicle_make : 0 for k in data}\n",
        "\n",
        "gender_car_make = {\"Male\" : car_make.copy(), \"Female\" : car_make.copy()}\n"
      ],
      "execution_count": 20,
      "outputs": []
    },
    {
      "cell_type": "code",
      "metadata": {
        "id": "aCNkxwETs9YH"
      },
      "source": [
        "for row in data:\n",
        "  gender_car_make[row.gender][row.vehicle_make] += 1"
      ],
      "execution_count": 21,
      "outputs": []
    },
    {
      "cell_type": "code",
      "metadata": {
        "id": "OUGal8UBs_Rq",
        "colab": {
          "base_uri": "https://localhost:8080/"
        },
        "outputId": "08607028-e531-4bcd-b281-15a44620046f"
      },
      "source": [
        "sorted(gender_car_make['Female'].items(), key = lambda x : x[1],reverse = True)[:3]"
      ],
      "execution_count": 22,
      "outputs": [
        {
          "output_type": "execute_result",
          "data": {
            "text/plain": [
              "[('Ford', 48), ('Chevrolet', 48), ('Mitsubishi', 25)]"
            ]
          },
          "metadata": {
            "tags": []
          },
          "execution_count": 22
        }
      ]
    },
    {
      "cell_type": "code",
      "metadata": {
        "colab": {
          "base_uri": "https://localhost:8080/"
        },
        "id": "P3Ye7mFlq95q",
        "outputId": "6fe09066-e23d-447b-f85a-43108e58dd19"
      },
      "source": [
        "sorted(gender_car_make['Male'].items(), key = lambda x : x[1],reverse = True)[:3]"
      ],
      "execution_count": 23,
      "outputs": [
        {
          "output_type": "execute_result",
          "data": {
            "text/plain": [
              "[('Ford', 44), ('Chevrolet', 38), ('GMC', 31)]"
            ]
          },
          "metadata": {
            "tags": []
          },
          "execution_count": 23
        }
      ]
    },
    {
      "cell_type": "code",
      "metadata": {
        "id": "nryl9PPbxGXA",
        "colab": {
          "base_uri": "https://localhost:8080/"
        },
        "outputId": "a5025e2a-e026-4c62-b476-e690d7c8220e"
      },
      "source": [
        "print(\"Largest number of car makes for Males : \", sorted(gender_car_make['Male'].items(), key = lambda x : x[1],reverse = True)[:1])\n",
        "print(\"Largest number of car makes for Females : \", sorted(gender_car_make['Female'].items(), key = lambda x : x[1],reverse = True)[:2])"
      ],
      "execution_count": 24,
      "outputs": [
        {
          "output_type": "stream",
          "text": [
            "Largest number of car makes for Males :  [('Ford', 44)]\n",
            "Largest number of car makes for Females :  [('Ford', 48), ('Chevrolet', 48)]\n"
          ],
          "name": "stdout"
        }
      ]
    },
    {
      "cell_type": "markdown",
      "metadata": {
        "id": "v0T8weyKxoWv"
      },
      "source": [
        "## Assignment 2 :"
      ]
    },
    {
      "cell_type": "markdown",
      "metadata": {
        "id": "-tuEkqJgxugw"
      },
      "source": [
        "### Goal 1\n",
        "For this goal, you are given a number of CSV files, each of which have their first row with the field name.\n",
        "\n",
        "You goal is to create a context manager that you can use to produce the data from each file in a named tuple with field names corresponding to the header row field names.\n",
        "\n",
        "You should use the csv module's reader function to help with parsing the data.\n",
        "\n",
        "Your context manager should be generic in the sense that it should just need the file name, no other configuration or hardcoded functionality is required. You do not need to worry about data types for this goal - just return every field as a string.\n",
        "\n",
        "In addition, your context manager should produce lazy iterators.\n",
        "\n",
        "Implement this using a class that implements the context manager protocol"
      ]
    },
    {
      "cell_type": "code",
      "metadata": {
        "id": "TFuXjnExYrpk"
      },
      "source": [
        "def dialect_finder(file_name):\n",
        "  with open(file_name) as f:\n",
        "      sample = f.read(2000)\n",
        "      dialect = csv.Sniffer().sniff(sample)\n",
        "  return(dialect)"
      ],
      "execution_count": 25,
      "outputs": []
    },
    {
      "cell_type": "code",
      "metadata": {
        "id": "Lusbgp8aYKRf"
      },
      "source": [
        "def read_file(file_name):\n",
        "  dialect = dialect_finder(file_name)\n",
        "  with open(file_name) as f:\n",
        "    rows = csv.reader(f,dialect)\n",
        "    yield from rows"
      ],
      "execution_count": 26,
      "outputs": []
    },
    {
      "cell_type": "code",
      "metadata": {
        "id": "PMfOf0JIxqg6"
      },
      "source": [
        "class File_Context_Manager :\n",
        "  def __init__(self,fname):\n",
        "    self._fname = fname\n",
        "\n",
        "  def __iter__(self):\n",
        "    return self\n",
        "\n",
        "  def __next__(self):\n",
        "    for data in self.file:\n",
        "      return(self.data_NT(*data))\n",
        "\n",
        "  def __enter__(self):\n",
        "    print(f\"Opening File : {self._fname}\")\n",
        "    self.file = read_file(self._fname)\n",
        "    columns = \" \".join(next(self.file))\n",
        "    self.data_NT = namedtuple((self._fname[0].upper() + self._fname[1:-4]), columns)\n",
        "    return self\n",
        "\n",
        "  def __exit__(self,exc_type,exc_value,exc_traceback):\n",
        "    print(f\"Closing File : {self._fname} \")\n",
        "    self.file.close()\n",
        "    return False\n"
      ],
      "execution_count": 27,
      "outputs": []
    },
    {
      "cell_type": "code",
      "metadata": {
        "colab": {
          "base_uri": "https://localhost:8080/"
        },
        "id": "ZROu4i7KWqkP",
        "outputId": "fe67d53a-62b0-430b-8eeb-3e4f6d434b07"
      },
      "source": [
        "with File_Context_Manager(\"personal_info.csv\") as f:\n",
        "  print(next(f))\n",
        "  print(next(f))\n",
        "  print(next(f))\n",
        "  print(next(f))\n",
        "  print(next(f))"
      ],
      "execution_count": 28,
      "outputs": [
        {
          "output_type": "stream",
          "text": [
            "Opening File : personal_info.csv\n",
            "Personal_info(ssn='100-53-9824', first_name='Sebastiano', last_name='Tester', gender='Male', language='Icelandic')\n",
            "Personal_info(ssn='101-71-4702', first_name='Cayla', last_name='MacDonagh', gender='Female', language='Lao')\n",
            "Personal_info(ssn='101-84-0356', first_name='Nomi', last_name='Lipprose', gender='Female', language='Yiddish')\n",
            "Personal_info(ssn='104-22-0928', first_name='Justinian', last_name='Kunzelmann', gender='Male', language='Dhivehi')\n",
            "Personal_info(ssn='104-84-7144', first_name='Claudianus', last_name='Brixey', gender='Male', language='Afrikaans')\n",
            "Closing File : personal_info.csv \n"
          ],
          "name": "stdout"
        }
      ]
    },
    {
      "cell_type": "code",
      "metadata": {
        "colab": {
          "base_uri": "https://localhost:8080/"
        },
        "id": "mfWsgBFVX9Rf",
        "outputId": "c3889030-e6cc-47fe-ebc2-c80668d261e4"
      },
      "source": [
        "with File_Context_Manager(\"Cars.csv\") as f:\n",
        "  print(next(f))\n",
        "  print(next(f))\n",
        "  print(next(f))\n",
        "  print(next(f))\n",
        "  print(next(f))"
      ],
      "execution_count": 29,
      "outputs": [
        {
          "output_type": "stream",
          "text": [
            "Opening File : Cars.csv\n",
            "Cars(Car='Chevrolet Chevelle Malibu', MPG='18.0', Cylinders='8', Displacement='307.0', Horsepower='130.0', Weight='3504.', Acceleration='12.0', Model='70', Origin='US')\n",
            "Cars(Car='Buick Skylark 320', MPG='15.0', Cylinders='8', Displacement='350.0', Horsepower='165.0', Weight='3693.', Acceleration='11.5', Model='70', Origin='US')\n",
            "Cars(Car='Plymouth Satellite', MPG='18.0', Cylinders='8', Displacement='318.0', Horsepower='150.0', Weight='3436.', Acceleration='11.0', Model='70', Origin='US')\n",
            "Cars(Car='AMC Rebel SST', MPG='16.0', Cylinders='8', Displacement='304.0', Horsepower='150.0', Weight='3433.', Acceleration='12.0', Model='70', Origin='US')\n",
            "Cars(Car='Ford Torino', MPG='17.0', Cylinders='8', Displacement='302.0', Horsepower='140.0', Weight='3449.', Acceleration='10.5', Model='70', Origin='US')\n",
            "Closing File : Cars.csv \n"
          ],
          "name": "stdout"
        }
      ]
    },
    {
      "cell_type": "markdown",
      "metadata": {
        "id": "H1F6lFXOZesM"
      },
      "source": [
        "### Goal 2\n",
        "The goal is to reproduce the work you did in Goal 1, but using a generator function and the contextlib contextmanager decorator."
      ]
    },
    {
      "cell_type": "code",
      "metadata": {
        "id": "QtuiXC9bfrn6"
      },
      "source": [
        "from contextlib import contextmanager\n",
        "\n",
        "\n",
        "@contextmanager\n",
        "def File_Context(fname):\n",
        "    file = read_file(fname)\n",
        "    columns = \" \".join(next(file))\n",
        "    data_NT = namedtuple((fname[0].upper() + fname[1:-4]), columns)\n",
        "    try:\n",
        "      yield data_NT(*next(file))\n",
        "    finally:\n",
        "      print(\"Data Extraction Finished\")"
      ],
      "execution_count": 67,
      "outputs": []
    },
    {
      "cell_type": "code",
      "metadata": {
        "colab": {
          "base_uri": "https://localhost:8080/"
        },
        "id": "9uYX0fv54bFG",
        "outputId": "81680b2c-89f9-4c24-adb4-7bc8e3e470e3"
      },
      "source": [
        "File_Context('Cars.csv')"
      ],
      "execution_count": 71,
      "outputs": [
        {
          "output_type": "execute_result",
          "data": {
            "text/plain": [
              "<contextlib._GeneratorContextManager at 0x7f82f461bb70>"
            ]
          },
          "metadata": {
            "tags": []
          },
          "execution_count": 71
        }
      ]
    },
    {
      "cell_type": "code",
      "metadata": {
        "colab": {
          "base_uri": "https://localhost:8080/",
          "height": 228
        },
        "id": "6vuCduFirFqq",
        "outputId": "1c2cec39-9526-4e71-b10f-6e53ad6fbf6f"
      },
      "source": [
        "with File_Context('Cars.csv') as a:\n",
        "  print(next(a))\n",
        "  print(next(a))\n",
        "  \n"
      ],
      "execution_count": 70,
      "outputs": [
        {
          "output_type": "stream",
          "text": [
            "Data Extraction Finished\n"
          ],
          "name": "stdout"
        },
        {
          "output_type": "error",
          "ename": "TypeError",
          "evalue": "ignored",
          "traceback": [
            "\u001b[0;31m---------------------------------------------------------------------------\u001b[0m",
            "\u001b[0;31mTypeError\u001b[0m                                 Traceback (most recent call last)",
            "\u001b[0;32m<ipython-input-70-04c16dfbc010>\u001b[0m in \u001b[0;36m<module>\u001b[0;34m()\u001b[0m\n\u001b[1;32m      1\u001b[0m \u001b[0;32mwith\u001b[0m \u001b[0mFile_Context\u001b[0m\u001b[0;34m(\u001b[0m\u001b[0;34m'Cars.csv'\u001b[0m\u001b[0;34m)\u001b[0m \u001b[0;32mas\u001b[0m \u001b[0ma\u001b[0m\u001b[0;34m:\u001b[0m\u001b[0;34m\u001b[0m\u001b[0;34m\u001b[0m\u001b[0m\n\u001b[0;32m----> 2\u001b[0;31m   \u001b[0mprint\u001b[0m\u001b[0;34m(\u001b[0m\u001b[0mnext\u001b[0m\u001b[0;34m(\u001b[0m\u001b[0ma\u001b[0m\u001b[0;34m)\u001b[0m\u001b[0;34m)\u001b[0m\u001b[0;34m\u001b[0m\u001b[0;34m\u001b[0m\u001b[0m\n\u001b[0m\u001b[1;32m      3\u001b[0m   \u001b[0mprint\u001b[0m\u001b[0;34m(\u001b[0m\u001b[0mnext\u001b[0m\u001b[0;34m(\u001b[0m\u001b[0ma\u001b[0m\u001b[0;34m)\u001b[0m\u001b[0;34m)\u001b[0m\u001b[0;34m\u001b[0m\u001b[0;34m\u001b[0m\u001b[0m\n\u001b[1;32m      4\u001b[0m \u001b[0;34m\u001b[0m\u001b[0m\n",
            "\u001b[0;31mTypeError\u001b[0m: 'Cars' object is not an iterator"
          ]
        }
      ]
    },
    {
      "cell_type": "code",
      "metadata": {
        "colab": {
          "base_uri": "https://localhost:8080/"
        },
        "id": "F8TvaZFCrPJa",
        "outputId": "9b4c28af-cda8-469a-c96b-5a02ab49638c"
      },
      "source": [
        "print(a)"
      ],
      "execution_count": 59,
      "outputs": [
        {
          "output_type": "stream",
          "text": [
            "Cars(Car='Chevrolet Chevelle Malibu', MPG='18.0', Cylinders='8', Displacement='307.0', Horsepower='130.0', Weight='3504.', Acceleration='12.0', Model='70', Origin='US')\n"
          ],
          "name": "stdout"
        }
      ]
    },
    {
      "cell_type": "code",
      "metadata": {
        "colab": {
          "base_uri": "https://localhost:8080/"
        },
        "id": "XjO6zC6drmjR",
        "outputId": "380b9f9c-10d1-411c-aa6c-0c5574c7a7d8"
      },
      "source": [
        "a"
      ],
      "execution_count": 42,
      "outputs": [
        {
          "output_type": "execute_result",
          "data": {
            "text/plain": [
              "Cars(Car='Chevrolet Chevelle Malibu', MPG='18.0', Cylinders='8', Displacement='307.0', Horsepower='130.0', Weight='3504.', Acceleration='12.0', Model='70', Origin='US')"
            ]
          },
          "metadata": {
            "tags": []
          },
          "execution_count": 42
        }
      ]
    },
    {
      "cell_type": "code",
      "metadata": {
        "colab": {
          "base_uri": "https://localhost:8080/"
        },
        "id": "r_NnxmvTrpcp",
        "outputId": "42f01279-534b-42c3-a3d2-02672db26f3c"
      },
      "source": [
        "a"
      ],
      "execution_count": 43,
      "outputs": [
        {
          "output_type": "execute_result",
          "data": {
            "text/plain": [
              "Cars(Car='Chevrolet Chevelle Malibu', MPG='18.0', Cylinders='8', Displacement='307.0', Horsepower='130.0', Weight='3504.', Acceleration='12.0', Model='70', Origin='US')"
            ]
          },
          "metadata": {
            "tags": []
          },
          "execution_count": 43
        }
      ]
    },
    {
      "cell_type": "code",
      "metadata": {
        "id": "Lw6Av8fzrqQZ"
      },
      "source": [
        ""
      ],
      "execution_count": null,
      "outputs": []
    }
  ]
}